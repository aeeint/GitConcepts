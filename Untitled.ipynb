{
 "cells": [
  {
   "cell_type": "code",
   "execution_count": 227,
   "id": "f6de0ba2",
   "metadata": {},
   "outputs": [],
   "source": [
    "import pandas as pd"
   ]
  },
  {
   "cell_type": "code",
   "execution_count": 228,
   "id": "567afe6f",
   "metadata": {},
   "outputs": [],
   "source": [
    "person_1={\n",
    "    \"first\": \"Teanie\",\n",
    "    \"last\": \"Miosotis\",\n",
    "    \"email\": \"miosotisteanie@gmail.com\"\n",
    "}"
   ]
  },
  {
   "cell_type": "code",
   "execution_count": 229,
   "id": "512efa34",
   "metadata": {},
   "outputs": [
    {
     "data": {
      "text/plain": [
       "'miosotisteanie@gmail.com'"
      ]
     },
     "execution_count": 229,
     "metadata": {},
     "output_type": "execute_result"
    }
   ],
   "source": [
    "person_1[\"email\"]"
   ]
  },
  {
   "cell_type": "code",
   "execution_count": 230,
   "id": "efd7922a",
   "metadata": {},
   "outputs": [],
   "source": [
    "df1=pd.DataFrame(person_1, index=[0])"
   ]
  },
  {
   "cell_type": "code",
   "execution_count": 231,
   "id": "b865610c",
   "metadata": {},
   "outputs": [
    {
     "data": {
      "text/html": [
       "<div>\n",
       "<style scoped>\n",
       "    .dataframe tbody tr th:only-of-type {\n",
       "        vertical-align: middle;\n",
       "    }\n",
       "\n",
       "    .dataframe tbody tr th {\n",
       "        vertical-align: top;\n",
       "    }\n",
       "\n",
       "    .dataframe thead th {\n",
       "        text-align: right;\n",
       "    }\n",
       "</style>\n",
       "<table border=\"1\" class=\"dataframe\">\n",
       "  <thead>\n",
       "    <tr style=\"text-align: right;\">\n",
       "      <th></th>\n",
       "      <th>first</th>\n",
       "      <th>last</th>\n",
       "      <th>email</th>\n",
       "    </tr>\n",
       "  </thead>\n",
       "  <tbody>\n",
       "    <tr>\n",
       "      <th>0</th>\n",
       "      <td>Teanie</td>\n",
       "      <td>Miosotis</td>\n",
       "      <td>miosotisteanie@gmail.com</td>\n",
       "    </tr>\n",
       "  </tbody>\n",
       "</table>\n",
       "</div>"
      ],
      "text/plain": [
       "    first      last                     email\n",
       "0  Teanie  Miosotis  miosotisteanie@gmail.com"
      ]
     },
     "execution_count": 231,
     "metadata": {},
     "output_type": "execute_result"
    }
   ],
   "source": [
    "df1"
   ]
  },
  {
   "cell_type": "code",
   "execution_count": 232,
   "id": "710a15f9",
   "metadata": {},
   "outputs": [],
   "source": [
    "person_2={\n",
    "    \"first\": [\"Teanie\"],\n",
    "    \"last\": [\"Miosotis\"],\n",
    "    \"email\": [\"miosotisteanie@gmail.com\"]\n",
    "}"
   ]
  },
  {
   "cell_type": "code",
   "execution_count": 233,
   "id": "7dc3409b",
   "metadata": {},
   "outputs": [],
   "source": [
    "df2=pd.DataFrame(person_2, index=[0])"
   ]
  },
  {
   "cell_type": "code",
   "execution_count": 234,
   "id": "6ca97e0c",
   "metadata": {},
   "outputs": [],
   "source": [
    "people={\n",
    "    \"first\": [\"Teanie\", \"Kim\", \"Aeeint\"],\n",
    "    \"last\": [\"Miosotis\", \"Sovann\", \"Iimootss\"],\n",
    "    \"email\": [\"miosotisteanie@gmail.com\", \"kimsovd@yahoo.fr\", \"aeeintiimootss@gmail.com\"]\n",
    "}"
   ]
  },
  {
   "cell_type": "code",
   "execution_count": 235,
   "id": "2f727b37",
   "metadata": {},
   "outputs": [],
   "source": [
    "df=pd.DataFrame(people)"
   ]
  },
  {
   "cell_type": "code",
   "execution_count": 236,
   "id": "830a8ac1",
   "metadata": {},
   "outputs": [
    {
     "data": {
      "text/html": [
       "<div>\n",
       "<style scoped>\n",
       "    .dataframe tbody tr th:only-of-type {\n",
       "        vertical-align: middle;\n",
       "    }\n",
       "\n",
       "    .dataframe tbody tr th {\n",
       "        vertical-align: top;\n",
       "    }\n",
       "\n",
       "    .dataframe thead th {\n",
       "        text-align: right;\n",
       "    }\n",
       "</style>\n",
       "<table border=\"1\" class=\"dataframe\">\n",
       "  <thead>\n",
       "    <tr style=\"text-align: right;\">\n",
       "      <th></th>\n",
       "      <th>first</th>\n",
       "      <th>last</th>\n",
       "      <th>email</th>\n",
       "    </tr>\n",
       "  </thead>\n",
       "  <tbody>\n",
       "    <tr>\n",
       "      <th>0</th>\n",
       "      <td>Teanie</td>\n",
       "      <td>Miosotis</td>\n",
       "      <td>miosotisteanie@gmail.com</td>\n",
       "    </tr>\n",
       "    <tr>\n",
       "      <th>1</th>\n",
       "      <td>Kim</td>\n",
       "      <td>Sovann</td>\n",
       "      <td>kimsovd@yahoo.fr</td>\n",
       "    </tr>\n",
       "    <tr>\n",
       "      <th>2</th>\n",
       "      <td>Aeeint</td>\n",
       "      <td>Iimootss</td>\n",
       "      <td>aeeintiimootss@gmail.com</td>\n",
       "    </tr>\n",
       "  </tbody>\n",
       "</table>\n",
       "</div>"
      ],
      "text/plain": [
       "    first      last                     email\n",
       "0  Teanie  Miosotis  miosotisteanie@gmail.com\n",
       "1     Kim    Sovann          kimsovd@yahoo.fr\n",
       "2  Aeeint  Iimootss  aeeintiimootss@gmail.com"
      ]
     },
     "execution_count": 236,
     "metadata": {},
     "output_type": "execute_result"
    }
   ],
   "source": [
    "df"
   ]
  },
  {
   "cell_type": "code",
   "execution_count": 237,
   "id": "b1c8ffec",
   "metadata": {},
   "outputs": [
    {
     "data": {
      "text/plain": [
       "0    Teanie\n",
       "1       Kim\n",
       "2    Aeeint\n",
       "Name: first, dtype: object"
      ]
     },
     "execution_count": 237,
     "metadata": {},
     "output_type": "execute_result"
    }
   ],
   "source": [
    "df[\"first\"]"
   ]
  },
  {
   "cell_type": "code",
   "execution_count": 238,
   "id": "1f0b5899",
   "metadata": {},
   "outputs": [
    {
     "data": {
      "text/html": [
       "<div>\n",
       "<style scoped>\n",
       "    .dataframe tbody tr th:only-of-type {\n",
       "        vertical-align: middle;\n",
       "    }\n",
       "\n",
       "    .dataframe tbody tr th {\n",
       "        vertical-align: top;\n",
       "    }\n",
       "\n",
       "    .dataframe thead th {\n",
       "        text-align: right;\n",
       "    }\n",
       "</style>\n",
       "<table border=\"1\" class=\"dataframe\">\n",
       "  <thead>\n",
       "    <tr style=\"text-align: right;\">\n",
       "      <th></th>\n",
       "      <th>email</th>\n",
       "      <th>last</th>\n",
       "    </tr>\n",
       "  </thead>\n",
       "  <tbody>\n",
       "    <tr>\n",
       "      <th>0</th>\n",
       "      <td>miosotisteanie@gmail.com</td>\n",
       "      <td>Miosotis</td>\n",
       "    </tr>\n",
       "    <tr>\n",
       "      <th>1</th>\n",
       "      <td>kimsovd@yahoo.fr</td>\n",
       "      <td>Sovann</td>\n",
       "    </tr>\n",
       "    <tr>\n",
       "      <th>2</th>\n",
       "      <td>aeeintiimootss@gmail.com</td>\n",
       "      <td>Iimootss</td>\n",
       "    </tr>\n",
       "  </tbody>\n",
       "</table>\n",
       "</div>"
      ],
      "text/plain": [
       "                      email      last\n",
       "0  miosotisteanie@gmail.com  Miosotis\n",
       "1          kimsovd@yahoo.fr    Sovann\n",
       "2  aeeintiimootss@gmail.com  Iimootss"
      ]
     },
     "execution_count": 238,
     "metadata": {},
     "output_type": "execute_result"
    }
   ],
   "source": [
    "df[[ \"email\",\"last\"]]"
   ]
  },
  {
   "cell_type": "code",
   "execution_count": 239,
   "id": "45bb6a83",
   "metadata": {},
   "outputs": [
    {
     "data": {
      "text/plain": [
       "Index(['first', 'last', 'email'], dtype='object')"
      ]
     },
     "execution_count": 239,
     "metadata": {},
     "output_type": "execute_result"
    }
   ],
   "source": [
    "df.columns #to get columns's names"
   ]
  },
  {
   "cell_type": "code",
   "execution_count": 240,
   "id": "b2decdf0",
   "metadata": {},
   "outputs": [
    {
     "data": {
      "text/plain": [
       "0    miosotisteanie@gmail.com\n",
       "1            kimsovd@yahoo.fr\n",
       "Name: email, dtype: object"
      ]
     },
     "execution_count": 240,
     "metadata": {},
     "output_type": "execute_result"
    }
   ],
   "source": [
    "df.iloc[[0, 1], 2]\n",
    "# .iloc!= loc -->.iloc[number_row, number_columns]\n",
    "#             -->.loc[number_row, columns_names]"
   ]
  },
  {
   "cell_type": "code",
   "execution_count": 241,
   "id": "747c6168",
   "metadata": {},
   "outputs": [
    {
     "data": {
      "text/html": [
       "<div>\n",
       "<style scoped>\n",
       "    .dataframe tbody tr th:only-of-type {\n",
       "        vertical-align: middle;\n",
       "    }\n",
       "\n",
       "    .dataframe tbody tr th {\n",
       "        vertical-align: top;\n",
       "    }\n",
       "\n",
       "    .dataframe thead th {\n",
       "        text-align: right;\n",
       "    }\n",
       "</style>\n",
       "<table border=\"1\" class=\"dataframe\">\n",
       "  <thead>\n",
       "    <tr style=\"text-align: right;\">\n",
       "      <th></th>\n",
       "      <th>first</th>\n",
       "      <th>last</th>\n",
       "    </tr>\n",
       "  </thead>\n",
       "  <tbody>\n",
       "    <tr>\n",
       "      <th>0</th>\n",
       "      <td>Teanie</td>\n",
       "      <td>Miosotis</td>\n",
       "    </tr>\n",
       "    <tr>\n",
       "      <th>2</th>\n",
       "      <td>Aeeint</td>\n",
       "      <td>Iimootss</td>\n",
       "    </tr>\n",
       "  </tbody>\n",
       "</table>\n",
       "</div>"
      ],
      "text/plain": [
       "    first      last\n",
       "0  Teanie  Miosotis\n",
       "2  Aeeint  Iimootss"
      ]
     },
     "execution_count": 241,
     "metadata": {},
     "output_type": "execute_result"
    }
   ],
   "source": [
    "df.loc[[0, 2], [\"first\", \"last\"]]"
   ]
  },
  {
   "cell_type": "code",
   "execution_count": 242,
   "id": "189887aa",
   "metadata": {},
   "outputs": [],
   "source": [
    "df.set_index(\"email\", inplace=True)\n",
    "#to set the colmns email as the index"
   ]
  },
  {
   "cell_type": "code",
   "execution_count": 243,
   "id": "450cc41e",
   "metadata": {},
   "outputs": [
    {
     "data": {
      "text/html": [
       "<div>\n",
       "<style scoped>\n",
       "    .dataframe tbody tr th:only-of-type {\n",
       "        vertical-align: middle;\n",
       "    }\n",
       "\n",
       "    .dataframe tbody tr th {\n",
       "        vertical-align: top;\n",
       "    }\n",
       "\n",
       "    .dataframe thead th {\n",
       "        text-align: right;\n",
       "    }\n",
       "</style>\n",
       "<table border=\"1\" class=\"dataframe\">\n",
       "  <thead>\n",
       "    <tr style=\"text-align: right;\">\n",
       "      <th></th>\n",
       "      <th>first</th>\n",
       "      <th>last</th>\n",
       "    </tr>\n",
       "    <tr>\n",
       "      <th>email</th>\n",
       "      <th></th>\n",
       "      <th></th>\n",
       "    </tr>\n",
       "  </thead>\n",
       "  <tbody>\n",
       "    <tr>\n",
       "      <th>miosotisteanie@gmail.com</th>\n",
       "      <td>Teanie</td>\n",
       "      <td>Miosotis</td>\n",
       "    </tr>\n",
       "    <tr>\n",
       "      <th>kimsovd@yahoo.fr</th>\n",
       "      <td>Kim</td>\n",
       "      <td>Sovann</td>\n",
       "    </tr>\n",
       "    <tr>\n",
       "      <th>aeeintiimootss@gmail.com</th>\n",
       "      <td>Aeeint</td>\n",
       "      <td>Iimootss</td>\n",
       "    </tr>\n",
       "  </tbody>\n",
       "</table>\n",
       "</div>"
      ],
      "text/plain": [
       "                           first      last\n",
       "email                                     \n",
       "miosotisteanie@gmail.com  Teanie  Miosotis\n",
       "kimsovd@yahoo.fr             Kim    Sovann\n",
       "aeeintiimootss@gmail.com  Aeeint  Iimootss"
      ]
     },
     "execution_count": 243,
     "metadata": {},
     "output_type": "execute_result"
    }
   ],
   "source": [
    "df"
   ]
  },
  {
   "cell_type": "code",
   "execution_count": 244,
   "id": "fef6ee6a",
   "metadata": {},
   "outputs": [
    {
     "data": {
      "text/plain": [
       "Index(['miosotisteanie@gmail.com', 'kimsovd@yahoo.fr',\n",
       "       'aeeintiimootss@gmail.com'],\n",
       "      dtype='object', name='email')"
      ]
     },
     "execution_count": 244,
     "metadata": {},
     "output_type": "execute_result"
    }
   ],
   "source": [
    "df.index"
   ]
  },
  {
   "cell_type": "code",
   "execution_count": 245,
   "id": "ac478322",
   "metadata": {},
   "outputs": [
    {
     "data": {
      "text/plain": [
       "'Miosotis'"
      ]
     },
     "execution_count": 245,
     "metadata": {},
     "output_type": "execute_result"
    }
   ],
   "source": [
    "df.loc[\"miosotisteanie@gmail.com\", \"last\"]"
   ]
  },
  {
   "cell_type": "code",
   "execution_count": 246,
   "id": "32a44c56",
   "metadata": {},
   "outputs": [
    {
     "data": {
      "text/plain": [
       "first      Teanie\n",
       "last     Miosotis\n",
       "Name: miosotisteanie@gmail.com, dtype: object"
      ]
     },
     "execution_count": 246,
     "metadata": {},
     "output_type": "execute_result"
    }
   ],
   "source": [
    "df.iloc[0]"
   ]
  },
  {
   "cell_type": "code",
   "execution_count": 247,
   "id": "188a39fd",
   "metadata": {},
   "outputs": [],
   "source": [
    "df.reset_index(inplace=True)\n",
    "#to set back the index with number"
   ]
  },
  {
   "cell_type": "code",
   "execution_count": 248,
   "id": "b87f9256",
   "metadata": {},
   "outputs": [
    {
     "data": {
      "text/html": [
       "<div>\n",
       "<style scoped>\n",
       "    .dataframe tbody tr th:only-of-type {\n",
       "        vertical-align: middle;\n",
       "    }\n",
       "\n",
       "    .dataframe tbody tr th {\n",
       "        vertical-align: top;\n",
       "    }\n",
       "\n",
       "    .dataframe thead th {\n",
       "        text-align: right;\n",
       "    }\n",
       "</style>\n",
       "<table border=\"1\" class=\"dataframe\">\n",
       "  <thead>\n",
       "    <tr style=\"text-align: right;\">\n",
       "      <th></th>\n",
       "      <th>email</th>\n",
       "      <th>first</th>\n",
       "      <th>last</th>\n",
       "    </tr>\n",
       "  </thead>\n",
       "  <tbody>\n",
       "    <tr>\n",
       "      <th>0</th>\n",
       "      <td>miosotisteanie@gmail.com</td>\n",
       "      <td>Teanie</td>\n",
       "      <td>Miosotis</td>\n",
       "    </tr>\n",
       "    <tr>\n",
       "      <th>1</th>\n",
       "      <td>kimsovd@yahoo.fr</td>\n",
       "      <td>Kim</td>\n",
       "      <td>Sovann</td>\n",
       "    </tr>\n",
       "    <tr>\n",
       "      <th>2</th>\n",
       "      <td>aeeintiimootss@gmail.com</td>\n",
       "      <td>Aeeint</td>\n",
       "      <td>Iimootss</td>\n",
       "    </tr>\n",
       "  </tbody>\n",
       "</table>\n",
       "</div>"
      ],
      "text/plain": [
       "                      email   first      last\n",
       "0  miosotisteanie@gmail.com  Teanie  Miosotis\n",
       "1          kimsovd@yahoo.fr     Kim    Sovann\n",
       "2  aeeintiimootss@gmail.com  Aeeint  Iimootss"
      ]
     },
     "execution_count": 248,
     "metadata": {},
     "output_type": "execute_result"
    }
   ],
   "source": [
    "df"
   ]
  },
  {
   "cell_type": "code",
   "execution_count": 249,
   "id": "8b919a26",
   "metadata": {},
   "outputs": [],
   "source": [
    "df_1=pd.DataFrame({'month': [1, 4, 7, 10], \n",
    "                  'year': [2012, 2014, 2013, 2014], \n",
    "                  'sale': [55, 40, 84, 31]})"
   ]
  },
  {
   "cell_type": "code",
   "execution_count": 250,
   "id": "465d75ab",
   "metadata": {},
   "outputs": [
    {
     "data": {
      "text/html": [
       "<div>\n",
       "<style scoped>\n",
       "    .dataframe tbody tr th:only-of-type {\n",
       "        vertical-align: middle;\n",
       "    }\n",
       "\n",
       "    .dataframe tbody tr th {\n",
       "        vertical-align: top;\n",
       "    }\n",
       "\n",
       "    .dataframe thead th {\n",
       "        text-align: right;\n",
       "    }\n",
       "</style>\n",
       "<table border=\"1\" class=\"dataframe\">\n",
       "  <thead>\n",
       "    <tr style=\"text-align: right;\">\n",
       "      <th></th>\n",
       "      <th>year</th>\n",
       "      <th>sale</th>\n",
       "    </tr>\n",
       "    <tr>\n",
       "      <th>month</th>\n",
       "      <th></th>\n",
       "      <th></th>\n",
       "    </tr>\n",
       "  </thead>\n",
       "  <tbody>\n",
       "    <tr>\n",
       "      <th>1</th>\n",
       "      <td>2012</td>\n",
       "      <td>55</td>\n",
       "    </tr>\n",
       "    <tr>\n",
       "      <th>4</th>\n",
       "      <td>2014</td>\n",
       "      <td>40</td>\n",
       "    </tr>\n",
       "    <tr>\n",
       "      <th>7</th>\n",
       "      <td>2013</td>\n",
       "      <td>84</td>\n",
       "    </tr>\n",
       "    <tr>\n",
       "      <th>10</th>\n",
       "      <td>2014</td>\n",
       "      <td>31</td>\n",
       "    </tr>\n",
       "  </tbody>\n",
       "</table>\n",
       "</div>"
      ],
      "text/plain": [
       "       year  sale\n",
       "month            \n",
       "1      2012    55\n",
       "4      2014    40\n",
       "7      2013    84\n",
       "10     2014    31"
      ]
     },
     "execution_count": 250,
     "metadata": {},
     "output_type": "execute_result"
    }
   ],
   "source": [
    "df_1.set_index('month')"
   ]
  },
  {
   "cell_type": "code",
   "execution_count": 251,
   "id": "9fa6ca9b",
   "metadata": {},
   "outputs": [
    {
     "data": {
      "text/html": [
       "<div>\n",
       "<style scoped>\n",
       "    .dataframe tbody tr th:only-of-type {\n",
       "        vertical-align: middle;\n",
       "    }\n",
       "\n",
       "    .dataframe tbody tr th {\n",
       "        vertical-align: top;\n",
       "    }\n",
       "\n",
       "    .dataframe thead th {\n",
       "        text-align: right;\n",
       "    }\n",
       "</style>\n",
       "<table border=\"1\" class=\"dataframe\">\n",
       "  <thead>\n",
       "    <tr style=\"text-align: right;\">\n",
       "      <th></th>\n",
       "      <th></th>\n",
       "      <th>sale</th>\n",
       "    </tr>\n",
       "    <tr>\n",
       "      <th>year</th>\n",
       "      <th>month</th>\n",
       "      <th></th>\n",
       "    </tr>\n",
       "  </thead>\n",
       "  <tbody>\n",
       "    <tr>\n",
       "      <th>2012</th>\n",
       "      <th>1</th>\n",
       "      <td>55</td>\n",
       "    </tr>\n",
       "    <tr>\n",
       "      <th>2014</th>\n",
       "      <th>4</th>\n",
       "      <td>40</td>\n",
       "    </tr>\n",
       "    <tr>\n",
       "      <th>2013</th>\n",
       "      <th>7</th>\n",
       "      <td>84</td>\n",
       "    </tr>\n",
       "    <tr>\n",
       "      <th>2014</th>\n",
       "      <th>10</th>\n",
       "      <td>31</td>\n",
       "    </tr>\n",
       "  </tbody>\n",
       "</table>\n",
       "</div>"
      ],
      "text/plain": [
       "            sale\n",
       "year month      \n",
       "2012 1        55\n",
       "2014 4        40\n",
       "2013 7        84\n",
       "2014 10       31"
      ]
     },
     "execution_count": 251,
     "metadata": {},
     "output_type": "execute_result"
    }
   ],
   "source": [
    "df_1.set_index(['year', 'month'])"
   ]
  },
  {
   "cell_type": "code",
   "execution_count": 252,
   "id": "f0e5c57f",
   "metadata": {},
   "outputs": [
    {
     "data": {
      "text/html": [
       "<div>\n",
       "<style scoped>\n",
       "    .dataframe tbody tr th:only-of-type {\n",
       "        vertical-align: middle;\n",
       "    }\n",
       "\n",
       "    .dataframe tbody tr th {\n",
       "        vertical-align: top;\n",
       "    }\n",
       "\n",
       "    .dataframe thead th {\n",
       "        text-align: right;\n",
       "    }\n",
       "</style>\n",
       "<table border=\"1\" class=\"dataframe\">\n",
       "  <thead>\n",
       "    <tr style=\"text-align: right;\">\n",
       "      <th></th>\n",
       "      <th></th>\n",
       "      <th>month</th>\n",
       "      <th>sale</th>\n",
       "    </tr>\n",
       "    <tr>\n",
       "      <th></th>\n",
       "      <th>year</th>\n",
       "      <th></th>\n",
       "      <th></th>\n",
       "    </tr>\n",
       "  </thead>\n",
       "  <tbody>\n",
       "    <tr>\n",
       "      <th>1</th>\n",
       "      <th>2012</th>\n",
       "      <td>1</td>\n",
       "      <td>55</td>\n",
       "    </tr>\n",
       "    <tr>\n",
       "      <th>2</th>\n",
       "      <th>2014</th>\n",
       "      <td>4</td>\n",
       "      <td>40</td>\n",
       "    </tr>\n",
       "    <tr>\n",
       "      <th>3</th>\n",
       "      <th>2013</th>\n",
       "      <td>7</td>\n",
       "      <td>84</td>\n",
       "    </tr>\n",
       "    <tr>\n",
       "      <th>4</th>\n",
       "      <th>2014</th>\n",
       "      <td>10</td>\n",
       "      <td>31</td>\n",
       "    </tr>\n",
       "  </tbody>\n",
       "</table>\n",
       "</div>"
      ],
      "text/plain": [
       "        month  sale\n",
       "  year             \n",
       "1 2012      1    55\n",
       "2 2014      4    40\n",
       "3 2013      7    84\n",
       "4 2014     10    31"
      ]
     },
     "execution_count": 252,
     "metadata": {},
     "output_type": "execute_result"
    }
   ],
   "source": [
    "df_1.set_index([pd.Index([1, 2, 3, 4]), 'year'])"
   ]
  },
  {
   "cell_type": "code",
   "execution_count": 253,
   "id": "4895c6d1",
   "metadata": {},
   "outputs": [
    {
     "data": {
      "text/plain": [
       "0     True\n",
       "1     True\n",
       "2    False\n",
       "dtype: bool"
      ]
     },
     "execution_count": 253,
     "metadata": {},
     "output_type": "execute_result"
    }
   ],
   "source": [
    "filt=(df['last']=='Sovann')|(df['first']=='Teanie')\n",
    "filt"
   ]
  },
  {
   "cell_type": "code",
   "execution_count": 254,
   "id": "f9c8dd3d",
   "metadata": {},
   "outputs": [
    {
     "data": {
      "text/plain": [
       "2    aeeintiimootss@gmail.com\n",
       "Name: email, dtype: object"
      ]
     },
     "execution_count": 254,
     "metadata": {},
     "output_type": "execute_result"
    }
   ],
   "source": [
    "df.loc[~filt, 'email']"
   ]
  },
  {
   "cell_type": "code",
   "execution_count": 255,
   "id": "3ed8c07e",
   "metadata": {},
   "outputs": [
    {
     "data": {
      "text/plain": [
       "Index(['email', 'first', 'last'], dtype='object')"
      ]
     },
     "execution_count": 255,
     "metadata": {},
     "output_type": "execute_result"
    }
   ],
   "source": [
    "df.columns"
   ]
  },
  {
   "cell_type": "code",
   "execution_count": 256,
   "id": "66bfa110",
   "metadata": {},
   "outputs": [],
   "source": [
    "df.columns = ['Email','First_Name', 'Last_name']"
   ]
  },
  {
   "cell_type": "code",
   "execution_count": 257,
   "id": "5853a36f",
   "metadata": {},
   "outputs": [],
   "source": [
    "df.columns=[x.lower() for x in df.columns]"
   ]
  },
  {
   "cell_type": "code",
   "execution_count": 258,
   "id": "fc78f7d9",
   "metadata": {},
   "outputs": [
    {
     "data": {
      "text/html": [
       "<div>\n",
       "<style scoped>\n",
       "    .dataframe tbody tr th:only-of-type {\n",
       "        vertical-align: middle;\n",
       "    }\n",
       "\n",
       "    .dataframe tbody tr th {\n",
       "        vertical-align: top;\n",
       "    }\n",
       "\n",
       "    .dataframe thead th {\n",
       "        text-align: right;\n",
       "    }\n",
       "</style>\n",
       "<table border=\"1\" class=\"dataframe\">\n",
       "  <thead>\n",
       "    <tr style=\"text-align: right;\">\n",
       "      <th></th>\n",
       "      <th>email</th>\n",
       "      <th>first_name</th>\n",
       "      <th>last_name</th>\n",
       "    </tr>\n",
       "  </thead>\n",
       "  <tbody>\n",
       "    <tr>\n",
       "      <th>0</th>\n",
       "      <td>miosotisteanie@gmail.com</td>\n",
       "      <td>Teanie</td>\n",
       "      <td>Miosotis</td>\n",
       "    </tr>\n",
       "    <tr>\n",
       "      <th>1</th>\n",
       "      <td>kimsovd@yahoo.fr</td>\n",
       "      <td>Kim</td>\n",
       "      <td>Sovann</td>\n",
       "    </tr>\n",
       "    <tr>\n",
       "      <th>2</th>\n",
       "      <td>aeeintiimootss@gmail.com</td>\n",
       "      <td>Aeeint</td>\n",
       "      <td>Iimootss</td>\n",
       "    </tr>\n",
       "  </tbody>\n",
       "</table>\n",
       "</div>"
      ],
      "text/plain": [
       "                      email first_name last_name\n",
       "0  miosotisteanie@gmail.com     Teanie  Miosotis\n",
       "1          kimsovd@yahoo.fr        Kim    Sovann\n",
       "2  aeeintiimootss@gmail.com     Aeeint  Iimootss"
      ]
     },
     "execution_count": 258,
     "metadata": {},
     "output_type": "execute_result"
    }
   ],
   "source": [
    "df"
   ]
  },
  {
   "cell_type": "code",
   "execution_count": 259,
   "id": "26bbd8e4",
   "metadata": {},
   "outputs": [],
   "source": [
    "df.loc[2, ['last', 'email']]=['Doe', 'johndoe@gmail.com']"
   ]
  },
  {
   "cell_type": "code",
   "execution_count": 260,
   "id": "44680ae6",
   "metadata": {},
   "outputs": [
    {
     "data": {
      "text/html": [
       "<div>\n",
       "<style scoped>\n",
       "    .dataframe tbody tr th:only-of-type {\n",
       "        vertical-align: middle;\n",
       "    }\n",
       "\n",
       "    .dataframe tbody tr th {\n",
       "        vertical-align: top;\n",
       "    }\n",
       "\n",
       "    .dataframe thead th {\n",
       "        text-align: right;\n",
       "    }\n",
       "</style>\n",
       "<table border=\"1\" class=\"dataframe\">\n",
       "  <thead>\n",
       "    <tr style=\"text-align: right;\">\n",
       "      <th></th>\n",
       "      <th>email</th>\n",
       "      <th>first_name</th>\n",
       "      <th>last_name</th>\n",
       "      <th>last</th>\n",
       "    </tr>\n",
       "  </thead>\n",
       "  <tbody>\n",
       "    <tr>\n",
       "      <th>0</th>\n",
       "      <td>miosotisteanie@gmail.com</td>\n",
       "      <td>Teanie</td>\n",
       "      <td>Miosotis</td>\n",
       "      <td>NaN</td>\n",
       "    </tr>\n",
       "    <tr>\n",
       "      <th>1</th>\n",
       "      <td>kimsovd@yahoo.fr</td>\n",
       "      <td>Kim</td>\n",
       "      <td>Sovann</td>\n",
       "      <td>NaN</td>\n",
       "    </tr>\n",
       "    <tr>\n",
       "      <th>2</th>\n",
       "      <td>johndoe@gmail.com</td>\n",
       "      <td>Aeeint</td>\n",
       "      <td>Iimootss</td>\n",
       "      <td>Doe</td>\n",
       "    </tr>\n",
       "  </tbody>\n",
       "</table>\n",
       "</div>"
      ],
      "text/plain": [
       "                      email first_name last_name last\n",
       "0  miosotisteanie@gmail.com     Teanie  Miosotis  NaN\n",
       "1          kimsovd@yahoo.fr        Kim    Sovann  NaN\n",
       "2         johndoe@gmail.com     Aeeint  Iimootss  Doe"
      ]
     },
     "execution_count": 260,
     "metadata": {},
     "output_type": "execute_result"
    }
   ],
   "source": [
    "df"
   ]
  },
  {
   "cell_type": "code",
   "execution_count": 261,
   "id": "3d9fe060",
   "metadata": {},
   "outputs": [
    {
     "data": {
      "text/plain": [
       "1    Sovann\n",
       "Name: last_name, dtype: object"
      ]
     },
     "execution_count": 261,
     "metadata": {},
     "output_type": "execute_result"
    }
   ],
   "source": [
    "filt = (df['email']=='kimsovd@yahoo.fr')\n",
    "df.loc[filt, 'last_name']"
   ]
  },
  {
   "cell_type": "code",
   "execution_count": 262,
   "id": "ad54e615",
   "metadata": {},
   "outputs": [],
   "source": [
    "df['first_name']=df['first_name'].str.lower()\n",
    "#to put them in lower case"
   ]
  },
  {
   "cell_type": "code",
   "execution_count": 263,
   "id": "1b7bf522",
   "metadata": {},
   "outputs": [
    {
     "data": {
      "text/html": [
       "<div>\n",
       "<style scoped>\n",
       "    .dataframe tbody tr th:only-of-type {\n",
       "        vertical-align: middle;\n",
       "    }\n",
       "\n",
       "    .dataframe tbody tr th {\n",
       "        vertical-align: top;\n",
       "    }\n",
       "\n",
       "    .dataframe thead th {\n",
       "        text-align: right;\n",
       "    }\n",
       "</style>\n",
       "<table border=\"1\" class=\"dataframe\">\n",
       "  <thead>\n",
       "    <tr style=\"text-align: right;\">\n",
       "      <th></th>\n",
       "      <th>email</th>\n",
       "      <th>first_name</th>\n",
       "      <th>last_name</th>\n",
       "      <th>last</th>\n",
       "    </tr>\n",
       "  </thead>\n",
       "  <tbody>\n",
       "    <tr>\n",
       "      <th>0</th>\n",
       "      <td>miosotisteanie@gmail.com</td>\n",
       "      <td>teanie</td>\n",
       "      <td>Miosotis</td>\n",
       "      <td>NaN</td>\n",
       "    </tr>\n",
       "    <tr>\n",
       "      <th>1</th>\n",
       "      <td>kimsovd@yahoo.fr</td>\n",
       "      <td>kim</td>\n",
       "      <td>Sovann</td>\n",
       "      <td>NaN</td>\n",
       "    </tr>\n",
       "    <tr>\n",
       "      <th>2</th>\n",
       "      <td>johndoe@gmail.com</td>\n",
       "      <td>aeeint</td>\n",
       "      <td>Iimootss</td>\n",
       "      <td>Doe</td>\n",
       "    </tr>\n",
       "  </tbody>\n",
       "</table>\n",
       "</div>"
      ],
      "text/plain": [
       "                      email first_name last_name last\n",
       "0  miosotisteanie@gmail.com     teanie  Miosotis  NaN\n",
       "1          kimsovd@yahoo.fr        kim    Sovann  NaN\n",
       "2         johndoe@gmail.com     aeeint  Iimootss  Doe"
      ]
     },
     "execution_count": 263,
     "metadata": {},
     "output_type": "execute_result"
    }
   ],
   "source": [
    "df"
   ]
  },
  {
   "cell_type": "code",
   "execution_count": 264,
   "id": "1fa31e90",
   "metadata": {},
   "outputs": [],
   "source": [
    "df['fname']=df['first_name'].str.upper()"
   ]
  },
  {
   "cell_type": "code",
   "execution_count": 265,
   "id": "9325357c",
   "metadata": {},
   "outputs": [
    {
     "data": {
      "text/html": [
       "<div>\n",
       "<style scoped>\n",
       "    .dataframe tbody tr th:only-of-type {\n",
       "        vertical-align: middle;\n",
       "    }\n",
       "\n",
       "    .dataframe tbody tr th {\n",
       "        vertical-align: top;\n",
       "    }\n",
       "\n",
       "    .dataframe thead th {\n",
       "        text-align: right;\n",
       "    }\n",
       "</style>\n",
       "<table border=\"1\" class=\"dataframe\">\n",
       "  <thead>\n",
       "    <tr style=\"text-align: right;\">\n",
       "      <th></th>\n",
       "      <th>email</th>\n",
       "      <th>first_name</th>\n",
       "      <th>last_name</th>\n",
       "      <th>last</th>\n",
       "      <th>fname</th>\n",
       "    </tr>\n",
       "  </thead>\n",
       "  <tbody>\n",
       "    <tr>\n",
       "      <th>0</th>\n",
       "      <td>miosotisteanie@gmail.com</td>\n",
       "      <td>teanie</td>\n",
       "      <td>Miosotis</td>\n",
       "      <td>NaN</td>\n",
       "      <td>TEANIE</td>\n",
       "    </tr>\n",
       "    <tr>\n",
       "      <th>1</th>\n",
       "      <td>kimsovd@yahoo.fr</td>\n",
       "      <td>kim</td>\n",
       "      <td>Sovann</td>\n",
       "      <td>NaN</td>\n",
       "      <td>KIM</td>\n",
       "    </tr>\n",
       "    <tr>\n",
       "      <th>2</th>\n",
       "      <td>johndoe@gmail.com</td>\n",
       "      <td>aeeint</td>\n",
       "      <td>Iimootss</td>\n",
       "      <td>Doe</td>\n",
       "      <td>AEEINT</td>\n",
       "    </tr>\n",
       "  </tbody>\n",
       "</table>\n",
       "</div>"
      ],
      "text/plain": [
       "                      email first_name last_name last   fname\n",
       "0  miosotisteanie@gmail.com     teanie  Miosotis  NaN  TEANIE\n",
       "1          kimsovd@yahoo.fr        kim    Sovann  NaN     KIM\n",
       "2         johndoe@gmail.com     aeeint  Iimootss  Doe  AEEINT"
      ]
     },
     "execution_count": 265,
     "metadata": {},
     "output_type": "execute_result"
    }
   ],
   "source": [
    "df"
   ]
  },
  {
   "cell_type": "code",
   "execution_count": 266,
   "id": "5fb42501",
   "metadata": {},
   "outputs": [
    {
     "data": {
      "text/plain": [
       "0    24\n",
       "1    16\n",
       "2    17\n",
       "Name: email, dtype: int64"
      ]
     },
     "execution_count": 266,
     "metadata": {},
     "output_type": "execute_result"
    }
   ],
   "source": [
    "df['email'].apply(len)"
   ]
  },
  {
   "cell_type": "code",
   "execution_count": 267,
   "id": "6556c256",
   "metadata": {},
   "outputs": [],
   "source": [
    "def update_email(email):\n",
    "    return email.upper()"
   ]
  },
  {
   "cell_type": "code",
   "execution_count": 268,
   "id": "0f125e5e",
   "metadata": {},
   "outputs": [
    {
     "data": {
      "text/plain": [
       "0    MIOSOTISTEANIE@GMAIL.COM\n",
       "1            KIMSOVD@YAHOO.FR\n",
       "2           JOHNDOE@GMAIL.COM\n",
       "Name: email, dtype: object"
      ]
     },
     "execution_count": 268,
     "metadata": {},
     "output_type": "execute_result"
    }
   ],
   "source": [
    "df['email'].apply(update_email)"
   ]
  },
  {
   "cell_type": "code",
   "execution_count": 269,
   "id": "02ba753a",
   "metadata": {},
   "outputs": [],
   "source": [
    "df['email']=df['email'].apply(update_email)"
   ]
  },
  {
   "cell_type": "code",
   "execution_count": 270,
   "id": "803ed104",
   "metadata": {},
   "outputs": [
    {
     "data": {
      "text/html": [
       "<div>\n",
       "<style scoped>\n",
       "    .dataframe tbody tr th:only-of-type {\n",
       "        vertical-align: middle;\n",
       "    }\n",
       "\n",
       "    .dataframe tbody tr th {\n",
       "        vertical-align: top;\n",
       "    }\n",
       "\n",
       "    .dataframe thead th {\n",
       "        text-align: right;\n",
       "    }\n",
       "</style>\n",
       "<table border=\"1\" class=\"dataframe\">\n",
       "  <thead>\n",
       "    <tr style=\"text-align: right;\">\n",
       "      <th></th>\n",
       "      <th>email</th>\n",
       "      <th>first_name</th>\n",
       "      <th>last_name</th>\n",
       "      <th>last</th>\n",
       "      <th>fname</th>\n",
       "    </tr>\n",
       "  </thead>\n",
       "  <tbody>\n",
       "    <tr>\n",
       "      <th>0</th>\n",
       "      <td>MIOSOTISTEANIE@GMAIL.COM</td>\n",
       "      <td>teanie</td>\n",
       "      <td>Miosotis</td>\n",
       "      <td>NaN</td>\n",
       "      <td>TEANIE</td>\n",
       "    </tr>\n",
       "    <tr>\n",
       "      <th>1</th>\n",
       "      <td>KIMSOVD@YAHOO.FR</td>\n",
       "      <td>kim</td>\n",
       "      <td>Sovann</td>\n",
       "      <td>NaN</td>\n",
       "      <td>KIM</td>\n",
       "    </tr>\n",
       "    <tr>\n",
       "      <th>2</th>\n",
       "      <td>JOHNDOE@GMAIL.COM</td>\n",
       "      <td>aeeint</td>\n",
       "      <td>Iimootss</td>\n",
       "      <td>Doe</td>\n",
       "      <td>AEEINT</td>\n",
       "    </tr>\n",
       "  </tbody>\n",
       "</table>\n",
       "</div>"
      ],
      "text/plain": [
       "                      email first_name last_name last   fname\n",
       "0  MIOSOTISTEANIE@GMAIL.COM     teanie  Miosotis  NaN  TEANIE\n",
       "1          KIMSOVD@YAHOO.FR        kim    Sovann  NaN     KIM\n",
       "2         JOHNDOE@GMAIL.COM     aeeint  Iimootss  Doe  AEEINT"
      ]
     },
     "execution_count": 270,
     "metadata": {},
     "output_type": "execute_result"
    }
   ],
   "source": [
    "df"
   ]
  },
  {
   "cell_type": "code",
   "execution_count": 271,
   "id": "64b4a925",
   "metadata": {},
   "outputs": [],
   "source": [
    "#df['email']=df['email'].apply( lambda x: x.lower() )"
   ]
  },
  {
   "cell_type": "code",
   "execution_count": 272,
   "id": "58d12b24",
   "metadata": {},
   "outputs": [
    {
     "data": {
      "text/html": [
       "<div>\n",
       "<style scoped>\n",
       "    .dataframe tbody tr th:only-of-type {\n",
       "        vertical-align: middle;\n",
       "    }\n",
       "\n",
       "    .dataframe tbody tr th {\n",
       "        vertical-align: top;\n",
       "    }\n",
       "\n",
       "    .dataframe thead th {\n",
       "        text-align: right;\n",
       "    }\n",
       "</style>\n",
       "<table border=\"1\" class=\"dataframe\">\n",
       "  <thead>\n",
       "    <tr style=\"text-align: right;\">\n",
       "      <th></th>\n",
       "      <th>email</th>\n",
       "      <th>first_name</th>\n",
       "      <th>last_name</th>\n",
       "      <th>last</th>\n",
       "      <th>fname</th>\n",
       "    </tr>\n",
       "  </thead>\n",
       "  <tbody>\n",
       "    <tr>\n",
       "      <th>0</th>\n",
       "      <td>MIOSOTISTEANIE@GMAIL.COM</td>\n",
       "      <td>teanie</td>\n",
       "      <td>Miosotis</td>\n",
       "      <td>NaN</td>\n",
       "      <td>TEANIE</td>\n",
       "    </tr>\n",
       "    <tr>\n",
       "      <th>1</th>\n",
       "      <td>KIMSOVD@YAHOO.FR</td>\n",
       "      <td>kim</td>\n",
       "      <td>Sovann</td>\n",
       "      <td>NaN</td>\n",
       "      <td>KIM</td>\n",
       "    </tr>\n",
       "    <tr>\n",
       "      <th>2</th>\n",
       "      <td>JOHNDOE@GMAIL.COM</td>\n",
       "      <td>aeeint</td>\n",
       "      <td>Iimootss</td>\n",
       "      <td>Doe</td>\n",
       "      <td>AEEINT</td>\n",
       "    </tr>\n",
       "  </tbody>\n",
       "</table>\n",
       "</div>"
      ],
      "text/plain": [
       "                      email first_name last_name last   fname\n",
       "0  MIOSOTISTEANIE@GMAIL.COM     teanie  Miosotis  NaN  TEANIE\n",
       "1          KIMSOVD@YAHOO.FR        kim    Sovann  NaN     KIM\n",
       "2         JOHNDOE@GMAIL.COM     aeeint  Iimootss  Doe  AEEINT"
      ]
     },
     "execution_count": 272,
     "metadata": {},
     "output_type": "execute_result"
    }
   ],
   "source": [
    "df"
   ]
  },
  {
   "cell_type": "code",
   "execution_count": 273,
   "id": "ab415283",
   "metadata": {},
   "outputs": [
    {
     "data": {
      "text/plain": [
       "0      NaN\n",
       "1    Devie\n",
       "2      bb1\n",
       "Name: first_name, dtype: object"
      ]
     },
     "execution_count": 273,
     "metadata": {},
     "output_type": "execute_result"
    }
   ],
   "source": [
    "df['first_name'].map({'kim': 'Devie', 'aeeint': 'bb1'})"
   ]
  },
  {
   "cell_type": "code",
   "execution_count": 274,
   "id": "2301a3ef",
   "metadata": {},
   "outputs": [],
   "source": [
    "df['first_name']=df['first_name'].replace({'kim': 'Devie', 'aeeint': 'bb1'})"
   ]
  },
  {
   "cell_type": "code",
   "execution_count": 275,
   "id": "e55fbd40",
   "metadata": {},
   "outputs": [
    {
     "data": {
      "text/html": [
       "<div>\n",
       "<style scoped>\n",
       "    .dataframe tbody tr th:only-of-type {\n",
       "        vertical-align: middle;\n",
       "    }\n",
       "\n",
       "    .dataframe tbody tr th {\n",
       "        vertical-align: top;\n",
       "    }\n",
       "\n",
       "    .dataframe thead th {\n",
       "        text-align: right;\n",
       "    }\n",
       "</style>\n",
       "<table border=\"1\" class=\"dataframe\">\n",
       "  <thead>\n",
       "    <tr style=\"text-align: right;\">\n",
       "      <th></th>\n",
       "      <th>email</th>\n",
       "      <th>first_name</th>\n",
       "      <th>last_name</th>\n",
       "      <th>last</th>\n",
       "      <th>fname</th>\n",
       "    </tr>\n",
       "  </thead>\n",
       "  <tbody>\n",
       "    <tr>\n",
       "      <th>0</th>\n",
       "      <td>MIOSOTISTEANIE@GMAIL.COM</td>\n",
       "      <td>teanie</td>\n",
       "      <td>Miosotis</td>\n",
       "      <td>NaN</td>\n",
       "      <td>TEANIE</td>\n",
       "    </tr>\n",
       "    <tr>\n",
       "      <th>1</th>\n",
       "      <td>KIMSOVD@YAHOO.FR</td>\n",
       "      <td>Devie</td>\n",
       "      <td>Sovann</td>\n",
       "      <td>NaN</td>\n",
       "      <td>KIM</td>\n",
       "    </tr>\n",
       "    <tr>\n",
       "      <th>2</th>\n",
       "      <td>JOHNDOE@GMAIL.COM</td>\n",
       "      <td>bb1</td>\n",
       "      <td>Iimootss</td>\n",
       "      <td>Doe</td>\n",
       "      <td>AEEINT</td>\n",
       "    </tr>\n",
       "  </tbody>\n",
       "</table>\n",
       "</div>"
      ],
      "text/plain": [
       "                      email first_name last_name last   fname\n",
       "0  MIOSOTISTEANIE@GMAIL.COM     teanie  Miosotis  NaN  TEANIE\n",
       "1          KIMSOVD@YAHOO.FR      Devie    Sovann  NaN     KIM\n",
       "2         JOHNDOE@GMAIL.COM        bb1  Iimootss  Doe  AEEINT"
      ]
     },
     "execution_count": 275,
     "metadata": {},
     "output_type": "execute_result"
    }
   ],
   "source": [
    "df"
   ]
  },
  {
   "cell_type": "code",
   "execution_count": 276,
   "id": "88313b41",
   "metadata": {},
   "outputs": [],
   "source": [
    "df['email']=df['email'].str.lower()"
   ]
  },
  {
   "cell_type": "code",
   "execution_count": 277,
   "id": "6482e628",
   "metadata": {},
   "outputs": [
    {
     "data": {
      "text/html": [
       "<div>\n",
       "<style scoped>\n",
       "    .dataframe tbody tr th:only-of-type {\n",
       "        vertical-align: middle;\n",
       "    }\n",
       "\n",
       "    .dataframe tbody tr th {\n",
       "        vertical-align: top;\n",
       "    }\n",
       "\n",
       "    .dataframe thead th {\n",
       "        text-align: right;\n",
       "    }\n",
       "</style>\n",
       "<table border=\"1\" class=\"dataframe\">\n",
       "  <thead>\n",
       "    <tr style=\"text-align: right;\">\n",
       "      <th></th>\n",
       "      <th>email</th>\n",
       "      <th>first_name</th>\n",
       "      <th>last_name</th>\n",
       "      <th>last</th>\n",
       "      <th>fname</th>\n",
       "      <th>full_name</th>\n",
       "    </tr>\n",
       "  </thead>\n",
       "  <tbody>\n",
       "    <tr>\n",
       "      <th>0</th>\n",
       "      <td>miosotisteanie@gmail.com</td>\n",
       "      <td>teanie</td>\n",
       "      <td>Miosotis</td>\n",
       "      <td>NaN</td>\n",
       "      <td>TEANIE</td>\n",
       "      <td>teanie Miosotis</td>\n",
       "    </tr>\n",
       "    <tr>\n",
       "      <th>1</th>\n",
       "      <td>kimsovd@yahoo.fr</td>\n",
       "      <td>Devie</td>\n",
       "      <td>Sovann</td>\n",
       "      <td>NaN</td>\n",
       "      <td>KIM</td>\n",
       "      <td>Devie Sovann</td>\n",
       "    </tr>\n",
       "    <tr>\n",
       "      <th>2</th>\n",
       "      <td>johndoe@gmail.com</td>\n",
       "      <td>bb1</td>\n",
       "      <td>Iimootss</td>\n",
       "      <td>Doe</td>\n",
       "      <td>AEEINT</td>\n",
       "      <td>bb1 Iimootss</td>\n",
       "    </tr>\n",
       "  </tbody>\n",
       "</table>\n",
       "</div>"
      ],
      "text/plain": [
       "                      email first_name last_name last   fname        full_name\n",
       "0  miosotisteanie@gmail.com     teanie  Miosotis  NaN  TEANIE  teanie Miosotis\n",
       "1          kimsovd@yahoo.fr      Devie    Sovann  NaN     KIM     Devie Sovann\n",
       "2         johndoe@gmail.com        bb1  Iimootss  Doe  AEEINT     bb1 Iimootss"
      ]
     },
     "execution_count": 277,
     "metadata": {},
     "output_type": "execute_result"
    }
   ],
   "source": [
    "df['full_name']=df['first_name']+\" \"+df['last_name']\n",
    "df"
   ]
  },
  {
   "cell_type": "code",
   "execution_count": 278,
   "id": "daeee026",
   "metadata": {},
   "outputs": [],
   "source": [
    "df.drop(columns=['first_name', 'last_name', 'last', 'fname'], inplace=True)"
   ]
  },
  {
   "cell_type": "code",
   "execution_count": 279,
   "id": "44e84958",
   "metadata": {},
   "outputs": [
    {
     "data": {
      "text/html": [
       "<div>\n",
       "<style scoped>\n",
       "    .dataframe tbody tr th:only-of-type {\n",
       "        vertical-align: middle;\n",
       "    }\n",
       "\n",
       "    .dataframe tbody tr th {\n",
       "        vertical-align: top;\n",
       "    }\n",
       "\n",
       "    .dataframe thead th {\n",
       "        text-align: right;\n",
       "    }\n",
       "</style>\n",
       "<table border=\"1\" class=\"dataframe\">\n",
       "  <thead>\n",
       "    <tr style=\"text-align: right;\">\n",
       "      <th></th>\n",
       "      <th>email</th>\n",
       "      <th>full_name</th>\n",
       "    </tr>\n",
       "  </thead>\n",
       "  <tbody>\n",
       "    <tr>\n",
       "      <th>0</th>\n",
       "      <td>miosotisteanie@gmail.com</td>\n",
       "      <td>teanie Miosotis</td>\n",
       "    </tr>\n",
       "    <tr>\n",
       "      <th>1</th>\n",
       "      <td>kimsovd@yahoo.fr</td>\n",
       "      <td>Devie Sovann</td>\n",
       "    </tr>\n",
       "    <tr>\n",
       "      <th>2</th>\n",
       "      <td>johndoe@gmail.com</td>\n",
       "      <td>bb1 Iimootss</td>\n",
       "    </tr>\n",
       "  </tbody>\n",
       "</table>\n",
       "</div>"
      ],
      "text/plain": [
       "                      email        full_name\n",
       "0  miosotisteanie@gmail.com  teanie Miosotis\n",
       "1          kimsovd@yahoo.fr     Devie Sovann\n",
       "2         johndoe@gmail.com     bb1 Iimootss"
      ]
     },
     "execution_count": 279,
     "metadata": {},
     "output_type": "execute_result"
    }
   ],
   "source": [
    "df"
   ]
  },
  {
   "cell_type": "code",
   "execution_count": 280,
   "id": "b00da2c0",
   "metadata": {},
   "outputs": [
    {
     "data": {
      "text/html": [
       "<div>\n",
       "<style scoped>\n",
       "    .dataframe tbody tr th:only-of-type {\n",
       "        vertical-align: middle;\n",
       "    }\n",
       "\n",
       "    .dataframe tbody tr th {\n",
       "        vertical-align: top;\n",
       "    }\n",
       "\n",
       "    .dataframe thead th {\n",
       "        text-align: right;\n",
       "    }\n",
       "</style>\n",
       "<table border=\"1\" class=\"dataframe\">\n",
       "  <thead>\n",
       "    <tr style=\"text-align: right;\">\n",
       "      <th></th>\n",
       "      <th>0</th>\n",
       "      <th>1</th>\n",
       "    </tr>\n",
       "  </thead>\n",
       "  <tbody>\n",
       "    <tr>\n",
       "      <th>0</th>\n",
       "      <td>teanie</td>\n",
       "      <td>Miosotis</td>\n",
       "    </tr>\n",
       "    <tr>\n",
       "      <th>1</th>\n",
       "      <td>Devie</td>\n",
       "      <td>Sovann</td>\n",
       "    </tr>\n",
       "    <tr>\n",
       "      <th>2</th>\n",
       "      <td>bb1</td>\n",
       "      <td>Iimootss</td>\n",
       "    </tr>\n",
       "  </tbody>\n",
       "</table>\n",
       "</div>"
      ],
      "text/plain": [
       "        0         1\n",
       "0  teanie  Miosotis\n",
       "1   Devie    Sovann\n",
       "2     bb1  Iimootss"
      ]
     },
     "execution_count": 280,
     "metadata": {},
     "output_type": "execute_result"
    }
   ],
   "source": [
    "df['full_name'].str.split(' ', expand=True)"
   ]
  },
  {
   "cell_type": "code",
   "execution_count": 281,
   "id": "0dd25d02",
   "metadata": {},
   "outputs": [],
   "source": [
    "df[['first', 'last']]=df['full_name'].str.split(' ', expand=True)"
   ]
  },
  {
   "cell_type": "code",
   "execution_count": 282,
   "id": "1b25c09d",
   "metadata": {},
   "outputs": [
    {
     "data": {
      "text/html": [
       "<div>\n",
       "<style scoped>\n",
       "    .dataframe tbody tr th:only-of-type {\n",
       "        vertical-align: middle;\n",
       "    }\n",
       "\n",
       "    .dataframe tbody tr th {\n",
       "        vertical-align: top;\n",
       "    }\n",
       "\n",
       "    .dataframe thead th {\n",
       "        text-align: right;\n",
       "    }\n",
       "</style>\n",
       "<table border=\"1\" class=\"dataframe\">\n",
       "  <thead>\n",
       "    <tr style=\"text-align: right;\">\n",
       "      <th></th>\n",
       "      <th>email</th>\n",
       "      <th>full_name</th>\n",
       "      <th>first</th>\n",
       "      <th>last</th>\n",
       "    </tr>\n",
       "  </thead>\n",
       "  <tbody>\n",
       "    <tr>\n",
       "      <th>0</th>\n",
       "      <td>miosotisteanie@gmail.com</td>\n",
       "      <td>teanie Miosotis</td>\n",
       "      <td>teanie</td>\n",
       "      <td>Miosotis</td>\n",
       "    </tr>\n",
       "    <tr>\n",
       "      <th>1</th>\n",
       "      <td>kimsovd@yahoo.fr</td>\n",
       "      <td>Devie Sovann</td>\n",
       "      <td>Devie</td>\n",
       "      <td>Sovann</td>\n",
       "    </tr>\n",
       "    <tr>\n",
       "      <th>2</th>\n",
       "      <td>johndoe@gmail.com</td>\n",
       "      <td>bb1 Iimootss</td>\n",
       "      <td>bb1</td>\n",
       "      <td>Iimootss</td>\n",
       "    </tr>\n",
       "  </tbody>\n",
       "</table>\n",
       "</div>"
      ],
      "text/plain": [
       "                      email        full_name   first      last\n",
       "0  miosotisteanie@gmail.com  teanie Miosotis  teanie  Miosotis\n",
       "1          kimsovd@yahoo.fr     Devie Sovann   Devie    Sovann\n",
       "2         johndoe@gmail.com     bb1 Iimootss     bb1  Iimootss"
      ]
     },
     "execution_count": 282,
     "metadata": {},
     "output_type": "execute_result"
    }
   ],
   "source": [
    "df"
   ]
  },
  {
   "cell_type": "code",
   "execution_count": 283,
   "id": "b3e84592",
   "metadata": {},
   "outputs": [
    {
     "name": "stderr",
     "output_type": "stream",
     "text": [
      "C:\\Users\\Teanie\\AppData\\Local\\Temp\\ipykernel_2256\\67547244.py:1: FutureWarning: The frame.append method is deprecated and will be removed from pandas in a future version. Use pandas.concat instead.\n",
      "  df.append({'first': 'Tony'}, ignore_index=True)\n"
     ]
    },
    {
     "data": {
      "text/html": [
       "<div>\n",
       "<style scoped>\n",
       "    .dataframe tbody tr th:only-of-type {\n",
       "        vertical-align: middle;\n",
       "    }\n",
       "\n",
       "    .dataframe tbody tr th {\n",
       "        vertical-align: top;\n",
       "    }\n",
       "\n",
       "    .dataframe thead th {\n",
       "        text-align: right;\n",
       "    }\n",
       "</style>\n",
       "<table border=\"1\" class=\"dataframe\">\n",
       "  <thead>\n",
       "    <tr style=\"text-align: right;\">\n",
       "      <th></th>\n",
       "      <th>email</th>\n",
       "      <th>full_name</th>\n",
       "      <th>first</th>\n",
       "      <th>last</th>\n",
       "    </tr>\n",
       "  </thead>\n",
       "  <tbody>\n",
       "    <tr>\n",
       "      <th>0</th>\n",
       "      <td>miosotisteanie@gmail.com</td>\n",
       "      <td>teanie Miosotis</td>\n",
       "      <td>teanie</td>\n",
       "      <td>Miosotis</td>\n",
       "    </tr>\n",
       "    <tr>\n",
       "      <th>1</th>\n",
       "      <td>kimsovd@yahoo.fr</td>\n",
       "      <td>Devie Sovann</td>\n",
       "      <td>Devie</td>\n",
       "      <td>Sovann</td>\n",
       "    </tr>\n",
       "    <tr>\n",
       "      <th>2</th>\n",
       "      <td>johndoe@gmail.com</td>\n",
       "      <td>bb1 Iimootss</td>\n",
       "      <td>bb1</td>\n",
       "      <td>Iimootss</td>\n",
       "    </tr>\n",
       "    <tr>\n",
       "      <th>3</th>\n",
       "      <td>NaN</td>\n",
       "      <td>NaN</td>\n",
       "      <td>Tony</td>\n",
       "      <td>NaN</td>\n",
       "    </tr>\n",
       "  </tbody>\n",
       "</table>\n",
       "</div>"
      ],
      "text/plain": [
       "                      email        full_name   first      last\n",
       "0  miosotisteanie@gmail.com  teanie Miosotis  teanie  Miosotis\n",
       "1          kimsovd@yahoo.fr     Devie Sovann   Devie    Sovann\n",
       "2         johndoe@gmail.com     bb1 Iimootss     bb1  Iimootss\n",
       "3                       NaN              NaN    Tony       NaN"
      ]
     },
     "execution_count": 283,
     "metadata": {},
     "output_type": "execute_result"
    }
   ],
   "source": [
    "df.append({'first': 'Tony'}, ignore_index=True)"
   ]
  },
  {
   "cell_type": "code",
   "execution_count": 285,
   "id": "3c670ada",
   "metadata": {},
   "outputs": [],
   "source": [
    "avengers={\n",
    "    'first': ['Tony', 'Steve'],\n",
    "    'last': ['Stark', 'Rogers'],\n",
    "    'email': ['stark@stark.stark', 'cap@america.revenge']\n",
    "}"
   ]
  },
  {
   "cell_type": "code",
   "execution_count": 288,
   "id": "5966c7f1",
   "metadata": {},
   "outputs": [
    {
     "data": {
      "text/html": [
       "<div>\n",
       "<style scoped>\n",
       "    .dataframe tbody tr th:only-of-type {\n",
       "        vertical-align: middle;\n",
       "    }\n",
       "\n",
       "    .dataframe tbody tr th {\n",
       "        vertical-align: top;\n",
       "    }\n",
       "\n",
       "    .dataframe thead th {\n",
       "        text-align: right;\n",
       "    }\n",
       "</style>\n",
       "<table border=\"1\" class=\"dataframe\">\n",
       "  <thead>\n",
       "    <tr style=\"text-align: right;\">\n",
       "      <th></th>\n",
       "      <th>first</th>\n",
       "      <th>last</th>\n",
       "      <th>email</th>\n",
       "    </tr>\n",
       "  </thead>\n",
       "  <tbody>\n",
       "    <tr>\n",
       "      <th>0</th>\n",
       "      <td>Tony</td>\n",
       "      <td>Stark</td>\n",
       "      <td>stark@stark.stark</td>\n",
       "    </tr>\n",
       "    <tr>\n",
       "      <th>1</th>\n",
       "      <td>Steve</td>\n",
       "      <td>Rogers</td>\n",
       "      <td>cap@america.revenge</td>\n",
       "    </tr>\n",
       "  </tbody>\n",
       "</table>\n",
       "</div>"
      ],
      "text/plain": [
       "   first    last                email\n",
       "0   Tony   Stark    stark@stark.stark\n",
       "1  Steve  Rogers  cap@america.revenge"
      ]
     },
     "execution_count": 288,
     "metadata": {},
     "output_type": "execute_result"
    }
   ],
   "source": [
    "avengers=pd.DataFrame(avengers)\n",
    "avengers"
   ]
  },
  {
   "cell_type": "code",
   "execution_count": null,
   "id": "8f6c9ec1",
   "metadata": {},
   "outputs": [],
   "source": []
  }
 ],
 "metadata": {
  "kernelspec": {
   "display_name": "Python 3 (ipykernel)",
   "language": "python",
   "name": "python3"
  },
  "language_info": {
   "codemirror_mode": {
    "name": "ipython",
    "version": 3
   },
   "file_extension": ".py",
   "mimetype": "text/x-python",
   "name": "python",
   "nbconvert_exporter": "python",
   "pygments_lexer": "ipython3",
   "version": "3.9.13"
  }
 },
 "nbformat": 4,
 "nbformat_minor": 5
}
